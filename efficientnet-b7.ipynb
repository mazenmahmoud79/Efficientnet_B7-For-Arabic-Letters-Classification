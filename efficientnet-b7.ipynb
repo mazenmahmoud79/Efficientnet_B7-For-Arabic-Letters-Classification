{
 "cells": [
  {
   "cell_type": "code",
   "execution_count": 1,
   "id": "bb109ee3",
   "metadata": {
    "_cell_guid": "b1076dfc-b9ad-4769-8c92-a6c4dae69d19",
    "_uuid": "8f2839f25d086af736a60e9eeb907d3b93b6e0e5",
    "execution": {
     "iopub.execute_input": "2023-12-23T19:34:17.830392Z",
     "iopub.status.busy": "2023-12-23T19:34:17.829304Z",
     "iopub.status.idle": "2023-12-23T19:34:26.326324Z",
     "shell.execute_reply": "2023-12-23T19:34:26.325462Z"
    },
    "papermill": {
     "duration": 8.511087,
     "end_time": "2023-12-23T19:34:26.328678",
     "exception": false,
     "start_time": "2023-12-23T19:34:17.817591",
     "status": "completed"
    },
    "tags": []
   },
   "outputs": [
    {
     "name": "stderr",
     "output_type": "stream",
     "text": [
      "/opt/conda/lib/python3.10/site-packages/scipy/__init__.py:146: UserWarning: A NumPy version >=1.16.5 and <1.23.0 is required for this version of SciPy (detected version 1.24.3\n",
      "  warnings.warn(f\"A NumPy version >={np_minversion} and <{np_maxversion}\"\n"
     ]
    }
   ],
   "source": [
    "import os\n",
    "import matplotlib.pyplot as plt\n",
    "import numpy as np\n",
    "import torch\n",
    "import torch.nn as nn\n",
    "import torch.optim as optim\n",
    "from torch.optim import lr_scheduler\n",
    "from torch.utils.data import DataLoader, random_split , Dataset\n",
    "from torchvision import models, transforms, datasets\n",
    "from PIL import Image\n",
    "from sklearn.metrics import confusion_matrix\n",
    "import csv"
   ]
  },
  {
   "cell_type": "markdown",
   "id": "c2fa0479",
   "metadata": {
    "papermill": {
     "duration": 0.008022,
     "end_time": "2023-12-23T19:34:26.345567",
     "exception": false,
     "start_time": "2023-12-23T19:34:26.337545",
     "status": "completed"
    },
    "tags": []
   },
   "source": [
    "***CONSTANTS***"
   ]
  },
  {
   "cell_type": "code",
   "execution_count": 2,
   "id": "608273e4",
   "metadata": {
    "execution": {
     "iopub.execute_input": "2023-12-23T19:34:26.364131Z",
     "iopub.status.busy": "2023-12-23T19:34:26.363217Z",
     "iopub.status.idle": "2023-12-23T19:34:26.367896Z",
     "shell.execute_reply": "2023-12-23T19:34:26.367005Z"
    },
    "papermill": {
     "duration": 0.016148,
     "end_time": "2023-12-23T19:34:26.369916",
     "exception": false,
     "start_time": "2023-12-23T19:34:26.353768",
     "status": "completed"
    },
    "tags": []
   },
   "outputs": [],
   "source": [
    "train_dir = '/kaggle/input/arabic-letters-classification/Final_Arabic_Alpha_dataset/Final_Arabic_Alpha_dataset/train'\n",
    "num_classes = 65\n",
    "image_shape = (224, 224)"
   ]
  },
  {
   "cell_type": "markdown",
   "id": "ebab3baa",
   "metadata": {
    "papermill": {
     "duration": 0.008892,
     "end_time": "2023-12-23T19:34:26.387142",
     "exception": false,
     "start_time": "2023-12-23T19:34:26.378250",
     "status": "completed"
    },
    "tags": []
   },
   "source": [
    "***PREPROCESSING***"
   ]
  },
  {
   "cell_type": "code",
   "execution_count": 3,
   "id": "eacf2c29",
   "metadata": {
    "execution": {
     "iopub.execute_input": "2023-12-23T19:34:26.405473Z",
     "iopub.status.busy": "2023-12-23T19:34:26.405150Z",
     "iopub.status.idle": "2023-12-23T19:34:26.414803Z",
     "shell.execute_reply": "2023-12-23T19:34:26.413989Z"
    },
    "papermill": {
     "duration": 0.021197,
     "end_time": "2023-12-23T19:34:26.416939",
     "exception": false,
     "start_time": "2023-12-23T19:34:26.395742",
     "status": "completed"
    },
    "tags": []
   },
   "outputs": [],
   "source": [
    "class MakeDataset(Dataset):\n",
    "    def __init__(self, root_folder, transform=None):\n",
    "        self.root_folder = root_folder\n",
    "        self.transform = transform\n",
    "        self.classes = sorted(os.listdir(root_folder), key=lambda x: int(x))\n",
    "        self.class_to_idx = {cls: i for i, cls in enumerate(self.classes)}\n",
    "        self.images = self.make_dataset()\n",
    "\n",
    "    def make_dataset(self):\n",
    "        images = []\n",
    "        for label in self.classes:\n",
    "            label_folder = os.path.join(self.root_folder, label)\n",
    "            for image_name in os.listdir(label_folder):\n",
    "                image_path = os.path.join(label_folder, image_name)\n",
    "                item = (image_path, self.class_to_idx[label])\n",
    "                images.append(item)\n",
    "        return images\n",
    "\n",
    "    def __len__(self):\n",
    "        return len(self.images)\n",
    "\n",
    "    def __getitem__(self, index):\n",
    "        image_path, label = self.images[index]\n",
    "        image = Image.open(image_path).convert(\"RGB\")\n",
    "\n",
    "        if self.transform:\n",
    "            image = self.transform(image)\n",
    "\n",
    "        return image, label"
   ]
  },
  {
   "cell_type": "code",
   "execution_count": 4,
   "id": "f24a9d49",
   "metadata": {
    "execution": {
     "iopub.execute_input": "2023-12-23T19:34:26.436091Z",
     "iopub.status.busy": "2023-12-23T19:34:26.435807Z",
     "iopub.status.idle": "2023-12-23T19:34:26.441115Z",
     "shell.execute_reply": "2023-12-23T19:34:26.440199Z"
    },
    "papermill": {
     "duration": 0.017179,
     "end_time": "2023-12-23T19:34:26.443195",
     "exception": false,
     "start_time": "2023-12-23T19:34:26.426016",
     "status": "completed"
    },
    "tags": []
   },
   "outputs": [],
   "source": [
    "transform = transforms.Compose([\n",
    "    transforms.Grayscale(num_output_channels=3),\n",
    "    transforms.Resize(image_shape),\n",
    "    transforms.ToTensor(),\n",
    "    transforms.Normalize(mean=[0.485, 0.456, 0.406], std=[0.229, 0.224, 0.225]),\n",
    "])"
   ]
  },
  {
   "cell_type": "code",
   "execution_count": 5,
   "id": "ab2b4654",
   "metadata": {
    "execution": {
     "iopub.execute_input": "2023-12-23T19:34:26.461709Z",
     "iopub.status.busy": "2023-12-23T19:34:26.461115Z",
     "iopub.status.idle": "2023-12-23T19:34:29.852119Z",
     "shell.execute_reply": "2023-12-23T19:34:29.850996Z"
    },
    "papermill": {
     "duration": 3.402579,
     "end_time": "2023-12-23T19:34:29.854622",
     "exception": false,
     "start_time": "2023-12-23T19:34:26.452043",
     "status": "completed"
    },
    "tags": []
   },
   "outputs": [],
   "source": [
    "dataset = MakeDataset(train_dir, transform=transform)"
   ]
  },
  {
   "cell_type": "code",
   "execution_count": 6,
   "id": "1f429127",
   "metadata": {
    "execution": {
     "iopub.execute_input": "2023-12-23T19:34:29.873809Z",
     "iopub.status.busy": "2023-12-23T19:34:29.873446Z",
     "iopub.status.idle": "2023-12-23T19:34:29.919420Z",
     "shell.execute_reply": "2023-12-23T19:34:29.918438Z"
    },
    "papermill": {
     "duration": 0.057894,
     "end_time": "2023-12-23T19:34:29.921708",
     "exception": false,
     "start_time": "2023-12-23T19:34:29.863814",
     "status": "completed"
    },
    "tags": []
   },
   "outputs": [],
   "source": [
    "train_size = int(0.8 * len(dataset))\n",
    "val_size = int(0.1 * len(dataset))\n",
    "test_size = len(dataset) - train_size - val_size\n",
    "train_dataset, val_dataset, test_dataset = random_split(dataset, [train_size, val_size, test_size])"
   ]
  },
  {
   "cell_type": "code",
   "execution_count": 7,
   "id": "1a279fcb",
   "metadata": {
    "execution": {
     "iopub.execute_input": "2023-12-23T19:34:29.939762Z",
     "iopub.status.busy": "2023-12-23T19:34:29.939422Z",
     "iopub.status.idle": "2023-12-23T19:34:29.943632Z",
     "shell.execute_reply": "2023-12-23T19:34:29.942767Z"
    },
    "papermill": {
     "duration": 0.015641,
     "end_time": "2023-12-23T19:34:29.945719",
     "exception": false,
     "start_time": "2023-12-23T19:34:29.930078",
     "status": "completed"
    },
    "tags": []
   },
   "outputs": [],
   "source": [
    "batch_size = 8"
   ]
  },
  {
   "cell_type": "code",
   "execution_count": 8,
   "id": "2db55657",
   "metadata": {
    "execution": {
     "iopub.execute_input": "2023-12-23T19:34:29.964077Z",
     "iopub.status.busy": "2023-12-23T19:34:29.963771Z",
     "iopub.status.idle": "2023-12-23T19:34:29.968780Z",
     "shell.execute_reply": "2023-12-23T19:34:29.967891Z"
    },
    "papermill": {
     "duration": 0.016663,
     "end_time": "2023-12-23T19:34:29.970750",
     "exception": false,
     "start_time": "2023-12-23T19:34:29.954087",
     "status": "completed"
    },
    "tags": []
   },
   "outputs": [],
   "source": [
    "train_loader = DataLoader(train_dataset, batch_size=batch_size, shuffle=True)\n",
    "val_loader = DataLoader(val_dataset, batch_size=batch_size, shuffle=False)\n",
    "test_loader = DataLoader(test_dataset, batch_size=batch_size, shuffle=False)"
   ]
  },
  {
   "cell_type": "markdown",
   "id": "993130c1",
   "metadata": {
    "papermill": {
     "duration": 0.007936,
     "end_time": "2023-12-23T19:34:29.987057",
     "exception": false,
     "start_time": "2023-12-23T19:34:29.979121",
     "status": "completed"
    },
    "tags": []
   },
   "source": [
    "***VISUALIZATION***"
   ]
  },
  {
   "cell_type": "code",
   "execution_count": 9,
   "id": "63a0ed0b",
   "metadata": {
    "execution": {
     "iopub.execute_input": "2023-12-23T19:34:30.005664Z",
     "iopub.status.busy": "2023-12-23T19:34:30.005319Z",
     "iopub.status.idle": "2023-12-23T19:34:30.010936Z",
     "shell.execute_reply": "2023-12-23T19:34:30.010035Z"
    },
    "papermill": {
     "duration": 0.016856,
     "end_time": "2023-12-23T19:34:30.012780",
     "exception": false,
     "start_time": "2023-12-23T19:34:29.995924",
     "status": "completed"
    },
    "tags": []
   },
   "outputs": [],
   "source": [
    "def show_images(images, labels, ncols=8):\n",
    "    figure, axes = plt.subplots(nrows=1, ncols=ncols, figsize=(15, 2))\n",
    "    for i, ax in enumerate(axes):\n",
    "        ax.imshow(np.transpose(images[i], (1, 2, 0)))\n",
    "        ax.set_title(f'Class: {labels[i]}')\n",
    "        ax.axis('off')"
   ]
  },
  {
   "cell_type": "code",
   "execution_count": 10,
   "id": "882865ab",
   "metadata": {
    "execution": {
     "iopub.execute_input": "2023-12-23T19:34:30.030076Z",
     "iopub.status.busy": "2023-12-23T19:34:30.029799Z",
     "iopub.status.idle": "2023-12-23T19:34:30.250445Z",
     "shell.execute_reply": "2023-12-23T19:34:30.249602Z"
    },
    "papermill": {
     "duration": 0.232734,
     "end_time": "2023-12-23T19:34:30.253497",
     "exception": false,
     "start_time": "2023-12-23T19:34:30.020763",
     "status": "completed"
    },
    "tags": []
   },
   "outputs": [],
   "source": [
    "data_iter = iter(train_loader)\n",
    "images, labels = data_iter.__next__()"
   ]
  },
  {
   "cell_type": "code",
   "execution_count": 11,
   "id": "310b3f2c",
   "metadata": {
    "execution": {
     "iopub.execute_input": "2023-12-23T19:34:30.278061Z",
     "iopub.status.busy": "2023-12-23T19:34:30.277588Z",
     "iopub.status.idle": "2023-12-23T19:34:30.982346Z",
     "shell.execute_reply": "2023-12-23T19:34:30.981428Z"
    },
    "papermill": {
     "duration": 0.720565,
     "end_time": "2023-12-23T19:34:30.984772",
     "exception": false,
     "start_time": "2023-12-23T19:34:30.264207",
     "status": "completed"
    },
    "tags": []
   },
   "outputs": [
    {
     "data": {
      "image/png": "[encoded data removed]",
      "text/plain": [
       "<Figure size 1500x200 with 8 Axes>"
      ]
     },
     "metadata": {},
     "output_type": "display_data"
    }
   ],
   "source": [
    "show_images(images, labels)\n",
    "plt.show()"
   ]
  },
  {
   "cell_type": "markdown",
   "id": "6be93888",
   "metadata": {
    "papermill": {
     "duration": 0.008543,
     "end_time": "2023-12-23T19:34:31.002795",
     "exception": false,
     "start_time": "2023-12-23T19:34:30.994252",
     "status": "completed"
    },
    "tags": []
   },
   "source": [
    "***MODEL***"
   ]
  },
  {
   "cell_type": "code",
   "execution_count": 12,
   "id": "2c729717",
   "metadata": {
    "execution": {
     "iopub.execute_input": "2023-12-23T19:34:31.022211Z",
     "iopub.status.busy": "2023-12-23T19:34:31.021882Z",
     "iopub.status.idle": "2023-12-23T19:34:34.198841Z",
     "shell.execute_reply": "2023-12-23T19:34:34.197917Z"
    },
    "papermill": {
     "duration": 3.189693,
     "end_time": "2023-12-23T19:34:34.201458",
     "exception": false,
     "start_time": "2023-12-23T19:34:31.011765",
     "status": "completed"
    },
    "tags": []
   },
   "outputs": [
    {
     "name": "stderr",
     "output_type": "stream",
     "text": [
      "/opt/conda/lib/python3.10/site-packages/torchvision/models/_utils.py:208: UserWarning: The parameter 'pretrained' is deprecated since 0.13 and may be removed in the future, please use 'weights' instead.\n",
      "  warnings.warn(\n",
      "/opt/conda/lib/python3.10/site-packages/torchvision/models/_utils.py:223: UserWarning: Arguments other than a weight enum or `None` for 'weights' are deprecated since 0.13 and may be removed in the future. The current behavior is equivalent to passing `weights=EfficientNet_B7_Weights.IMAGENET1K_V1`. You can also use `weights=EfficientNet_B7_Weights.DEFAULT` to get the most up-to-date weights.\n",
      "  warnings.warn(msg)\n",
      "Downloading: \"https://download.pytorch.org/models/efficientnet_b7_lukemelas-dcc49843.pth\" to /root/.cache/torch/hub/checkpoints/efficientnet_b7_lukemelas-dcc49843.pth\n",
      "100%|██████████| 255M/255M [00:01<00:00, 180MB/s]\n"
     ]
    }
   ],
   "source": [
    "model = models.efficientnet_b7(pretrained=True)"
   ]
  },
  {
   "cell_type": "code",
   "execution_count": 13,
   "id": "d7a36cec",
   "metadata": {
    "execution": {
     "iopub.execute_input": "2023-12-23T19:34:34.224443Z",
     "iopub.status.busy": "2023-12-23T19:34:34.223714Z",
     "iopub.status.idle": "2023-12-23T19:34:34.230303Z",
     "shell.execute_reply": "2023-12-23T19:34:34.229644Z"
    },
    "papermill": {
     "duration": 0.019755,
     "end_time": "2023-12-23T19:34:34.232231",
     "exception": false,
     "start_time": "2023-12-23T19:34:34.212476",
     "status": "completed"
    },
    "tags": []
   },
   "outputs": [],
   "source": [
    "\n",
    "# Assuming the classifier attribute is 'classifier', get the last layer in the Sequential\n",
    "last_layer = list(model.classifier.children())[-1]\n",
    "\n",
    "\n",
    "# Replace it with the correct attribute name\n",
    "if isinstance(last_layer, nn.Linear):\n",
    "    in_features = last_layer.in_features\n",
    "    model.classifier[-1] = nn.Linear(in_features, num_classes)\n",
    "else:\n",
    "    raise ValueError(\"The last layer of the classifier is not Linear, please adjust the code accordingly.\")"
   ]
  },
  {
   "cell_type": "code",
   "execution_count": 14,
   "id": "2854b6b3",
   "metadata": {
    "execution": {
     "iopub.execute_input": "2023-12-23T19:34:34.254369Z",
     "iopub.status.busy": "2023-12-23T19:34:34.254105Z",
     "iopub.status.idle": "2023-12-23T19:34:34.264486Z",
     "shell.execute_reply": "2023-12-23T19:34:34.263559Z"
    },
    "papermill": {
     "duration": 0.023882,
     "end_time": "2023-12-23T19:34:34.266652",
     "exception": false,
     "start_time": "2023-12-23T19:34:34.242770",
     "status": "completed"
    },
    "tags": []
   },
   "outputs": [],
   "source": [
    "criterion = nn.CrossEntropyLoss()\n",
    "optimizer = optim.Adam(model.parameters(), lr=0.0001)\n",
    "scheduler = lr_scheduler.StepLR(optimizer, step_size=7, gamma=0.1)"
   ]
  },
  {
   "cell_type": "code",
   "execution_count": 15,
   "id": "bb50c3fc",
   "metadata": {
    "execution": {
     "iopub.execute_input": "2023-12-23T19:34:34.288690Z",
     "iopub.status.busy": "2023-12-23T19:34:34.288377Z",
     "iopub.status.idle": "2023-12-23T19:34:34.395608Z",
     "shell.execute_reply": "2023-12-23T19:34:34.394585Z"
    },
    "papermill": {
     "duration": 0.120929,
     "end_time": "2023-12-23T19:34:34.397874",
     "exception": false,
     "start_time": "2023-12-23T19:34:34.276945",
     "status": "completed"
    },
    "tags": []
   },
   "outputs": [
    {
     "name": "stdout",
     "output_type": "stream",
     "text": [
      "cuda:0\n"
     ]
    }
   ],
   "source": [
    "device = torch.device(\"cuda:0\" if torch.cuda.is_available() else \"cpu\")\n",
    "print(device)"
   ]
  },
  {
   "cell_type": "code",
   "execution_count": 16,
   "id": "22ecc1dd",
   "metadata": {
    "execution": {
     "iopub.execute_input": "2023-12-23T19:34:34.421667Z",
     "iopub.status.busy": "2023-12-23T19:34:34.421318Z",
     "iopub.status.idle": "2023-12-23T19:34:34.425527Z",
     "shell.execute_reply": "2023-12-23T19:34:34.424726Z"
    },
    "papermill": {
     "duration": 0.019205,
     "end_time": "2023-12-23T19:34:34.427501",
     "exception": false,
     "start_time": "2023-12-23T19:34:34.408296",
     "status": "completed"
    },
    "tags": []
   },
   "outputs": [],
   "source": [
    "torch.cuda.empty_cache()"
   ]
  },
  {
   "cell_type": "code",
   "execution_count": 17,
   "id": "adcf84a1",
   "metadata": {
    "execution": {
     "iopub.execute_input": "2023-12-23T19:34:34.450358Z",
     "iopub.status.busy": "2023-12-23T19:34:34.450052Z",
     "iopub.status.idle": "2023-12-23T19:34:39.103601Z",
     "shell.execute_reply": "2023-12-23T19:34:39.102649Z"
    },
    "papermill": {
     "duration": 4.668186,
     "end_time": "2023-12-23T19:34:39.105993",
     "exception": false,
     "start_time": "2023-12-23T19:34:34.437807",
     "status": "completed"
    },
    "tags": []
   },
   "outputs": [],
   "source": [
    "model = model.to(device)"
   ]
  },
  {
   "cell_type": "code",
   "execution_count": 18,
   "id": "accf24ac",
   "metadata": {
    "execution": {
     "iopub.execute_input": "2023-12-23T19:34:39.131479Z",
     "iopub.status.busy": "2023-12-23T19:34:39.131125Z",
     "iopub.status.idle": "2023-12-23T19:34:39.136004Z",
     "shell.execute_reply": "2023-12-23T19:34:39.135046Z"
    },
    "papermill": {
     "duration": 0.019597,
     "end_time": "2023-12-23T19:34:39.138179",
     "exception": false,
     "start_time": "2023-12-23T19:34:39.118582",
     "status": "completed"
    },
    "tags": []
   },
   "outputs": [],
   "source": [
    "num_epochs = 10\n",
    "desired_training_accuracy = 99.999\n",
    "early_stopping_threshold = 5  \n",
    "early_stopping_counter = 0\n",
    "best_val_loss = float('inf')"
   ]
  },
  {
   "cell_type": "code",
   "execution_count": 19,
   "id": "a22de997",
   "metadata": {
    "execution": {
     "iopub.execute_input": "2023-12-23T19:34:39.161958Z",
     "iopub.status.busy": "2023-12-23T19:34:39.161660Z",
     "iopub.status.idle": "2023-12-23T19:34:39.166516Z",
     "shell.execute_reply": "2023-12-23T19:34:39.165590Z"
    },
    "papermill": {
     "duration": 0.019033,
     "end_time": "2023-12-23T19:34:39.168671",
     "exception": false,
     "start_time": "2023-12-23T19:34:39.149638",
     "status": "completed"
    },
    "tags": []
   },
   "outputs": [],
   "source": [
    "# Lists to store training and validation metrics for plotting curves\n",
    "train_losses = []\n",
    "train_accuracies = []\n",
    "val_losses = []\n",
    "val_accuracies = []\n",
    "predictions = []\n",
    "targets = []"
   ]
  },
  {
   "cell_type": "code",
   "execution_count": 20,
   "id": "af33a381",
   "metadata": {
    "execution": {
     "iopub.execute_input": "2023-12-23T19:34:39.192008Z",
     "iopub.status.busy": "2023-12-23T19:34:39.191227Z",
     "iopub.status.idle": "2023-12-24T00:00:33.592646Z",
     "shell.execute_reply": "2023-12-24T00:00:33.591688Z"
    },
    "papermill": {
     "duration": 15954.458617,
     "end_time": "2023-12-24T00:00:33.637997",
     "exception": false,
     "start_time": "2023-12-23T19:34:39.179380",
     "status": "completed"
    },
    "tags": []
   },
   "outputs": [
    {
     "name": "stdout",
     "output_type": "stream",
     "text": [
      "Epoch 1/10, Batch 100/4256, Training Loss: 4.126889822483062, Training Accuracy: 4.25\n",
      "Epoch 1/10, Batch 200/4256, Training Loss: 3.746554260253906, Training Accuracy: 9.125\n",
      "Epoch 1/10, Batch 300/4256, Training Loss: 3.0499612951278685, Training Accuracy: 15.166666666666666\n",
      "Epoch 1/10, Batch 400/4256, Training Loss: 2.382437504529953, Training Accuracy: 22.4375\n",
      "Epoch 1/10, Batch 500/4256, Training Loss: 1.752634922862053, Training Accuracy: 29.775\n",
      "Epoch 1/10, Batch 600/4256, Training Loss: 1.3815501177310943, Training Accuracy: 36.083333333333336\n",
      "Epoch 1/10, Batch 700/4256, Training Loss: 1.1301019006967545, Training Accuracy: 41.392857142857146\n",
      "Epoch 1/10, Batch 800/4256, Training Loss: 0.8796355098485946, Training Accuracy: 46.046875\n",
      "Epoch 1/10, Batch 900/4256, Training Loss: 0.77730827242136, Training Accuracy: 49.958333333333336\n",
      "Epoch 1/10, Batch 1000/4256, Training Loss: 0.6746529269218445, Training Accuracy: 53.25\n",
      "Epoch 1/10, Batch 1100/4256, Training Loss: 0.6699953646957875, Training Accuracy: 55.93181818181818\n",
      "Epoch 1/10, Batch 1200/4256, Training Loss: 0.5722857236862182, Training Accuracy: 58.40625\n",
      "Epoch 1/10, Batch 1300/4256, Training Loss: 0.6245441809296608, Training Accuracy: 60.50961538461539\n",
      "Epoch 1/10, Batch 1400/4256, Training Loss: 0.5358235383033753, Training Accuracy: 62.38392857142857\n",
      "Epoch 1/10, Batch 1500/4256, Training Loss: 0.5314957222342491, Training Accuracy: 63.93333333333333\n",
      "Epoch 1/10, Batch 1600/4256, Training Loss: 0.49738285556435585, Training Accuracy: 65.296875\n",
      "Epoch 1/10, Batch 1700/4256, Training Loss: 0.5327502999454736, Training Accuracy: 66.5\n",
      "Epoch 1/10, Batch 1800/4256, Training Loss: 0.5198150832951068, Training Accuracy: 67.59027777777777\n",
      "Epoch 1/10, Batch 1900/4256, Training Loss: 0.49539259865880014, Training Accuracy: 68.57894736842105\n",
      "Epoch 1/10, Batch 2000/4256, Training Loss: 0.3809202340990305, Training Accuracy: 69.625\n",
      "Epoch 1/10, Batch 2100/4256, Training Loss: 0.3820737871900201, Training Accuracy: 70.58333333333333\n",
      "Epoch 1/10, Batch 2200/4256, Training Loss: 0.3722580398991704, Training Accuracy: 71.4375\n",
      "Epoch 1/10, Batch 2300/4256, Training Loss: 0.3968019152060151, Training Accuracy: 72.2445652173913\n",
      "Epoch 1/10, Batch 2400/4256, Training Loss: 0.43459821455180647, Training Accuracy: 72.90625\n",
      "Epoch 1/10, Batch 2500/4256, Training Loss: 0.38675908725708724, Training Accuracy: 73.55\n",
      "Epoch 1/10, Batch 2600/4256, Training Loss: 0.3406580651551485, Training Accuracy: 74.16346153846153\n",
      "Epoch 1/10, Batch 2700/4256, Training Loss: 0.3758085045218468, Training Accuracy: 74.73611111111111\n",
      "Epoch 1/10, Batch 2800/4256, Training Loss: 0.33666052859276535, Training Accuracy: 75.30803571428571\n",
      "Epoch 1/10, Batch 2900/4256, Training Loss: 0.30892957616597416, Training Accuracy: 75.8146551724138\n",
      "Epoch 1/10, Batch 3000/4256, Training Loss: 0.3650814007408917, Training Accuracy: 76.2875\n",
      "Epoch 1/10, Batch 3100/4256, Training Loss: 0.28034132881090046, Training Accuracy: 76.76612903225806\n",
      "Epoch 1/10, Batch 3200/4256, Training Loss: 0.35521407341584565, Training Accuracy: 77.17578125\n",
      "Epoch 1/10, Batch 3300/4256, Training Loss: 0.4299151076003909, Training Accuracy: 77.5340909090909\n",
      "Epoch 1/10, Batch 3400/4256, Training Loss: 0.31243611009791494, Training Accuracy: 77.95220588235294\n",
      "Epoch 1/10, Batch 3500/4256, Training Loss: 0.32684506771154703, Training Accuracy: 78.325\n",
      "Epoch 1/10, Batch 3600/4256, Training Loss: 0.3627423556149006, Training Accuracy: 78.65972222222223\n",
      "Epoch 1/10, Batch 3700/4256, Training Loss: 0.3533781388960779, Training Accuracy: 78.97297297297297\n",
      "Epoch 1/10, Batch 3800/4256, Training Loss: 0.3081283630244434, Training Accuracy: 79.28947368421052\n",
      "Epoch 1/10, Batch 3900/4256, Training Loss: 0.32447917530313136, Training Accuracy: 79.57371794871794\n",
      "Epoch 1/10, Batch 4000/4256, Training Loss: 0.32966758029535415, Training Accuracy: 79.840625\n",
      "Epoch 1/10, Batch 4100/4256, Training Loss: 0.33326778778806326, Training Accuracy: 80.09451219512195\n",
      "Epoch 1/10, Batch 4200/4256, Training Loss: 0.2817401051614434, Training Accuracy: 80.36904761904762\n",
      "Epoch 1/10, Training Loss: 0.003998885706287662, Training Accuracy: 80.52398155490938%, Validation Loss: 0.20304916091517133, Validation Accuracy: 94.19506462984724%\n",
      "Epoch 2/10, Batch 100/4256, Training Loss: 0.2635977592691779, Training Accuracy: 93.5\n",
      "Epoch 2/10, Batch 200/4256, Training Loss: 0.2719496436975896, Training Accuracy: 93.25\n",
      "Epoch 2/10, Batch 300/4256, Training Loss: 0.21689882720820605, Training Accuracy: 93.5\n",
      "Epoch 2/10, Batch 400/4256, Training Loss: 0.21916913674212993, Training Accuracy: 93.78125\n",
      "Epoch 2/10, Batch 500/4256, Training Loss: 0.22937938139773906, Training Accuracy: 93.625\n",
      "Epoch 2/10, Batch 600/4256, Training Loss: 0.25381431510671976, Training Accuracy: 93.47916666666667\n",
      "Epoch 2/10, Batch 700/4256, Training Loss: 0.30559356063604354, Training Accuracy: 93.0\n",
      "Epoch 2/10, Batch 800/4256, Training Loss: 0.22908239888958634, Training Accuracy: 92.984375\n",
      "Epoch 2/10, Batch 900/4256, Training Loss: 0.253157743467018, Training Accuracy: 92.95833333333333\n",
      "Epoch 2/10, Batch 1000/4256, Training Loss: 0.20754912737291306, Training Accuracy: 93.0125\n",
      "Epoch 2/10, Batch 1100/4256, Training Loss: 0.2160607579443604, Training Accuracy: 92.98863636363636\n",
      "Epoch 2/10, Batch 1200/4256, Training Loss: 0.26016335853375494, Training Accuracy: 92.96875\n",
      "Epoch 2/10, Batch 1300/4256, Training Loss: 0.270973363397643, Training Accuracy: 93.00961538461539\n",
      "Epoch 2/10, Batch 1400/4256, Training Loss: 0.24304136454127728, Training Accuracy: 92.99107142857143\n",
      "Epoch 2/10, Batch 1500/4256, Training Loss: 0.23042623863555492, Training Accuracy: 92.99166666666666\n",
      "Epoch 2/10, Batch 1600/4256, Training Loss: 0.21238358036614954, Training Accuracy: 93.0\n",
      "Epoch 2/10, Batch 1700/4256, Training Loss: 0.21400918160565197, Training Accuracy: 93.02941176470588\n",
      "Epoch 2/10, Batch 1800/4256, Training Loss: 0.2531946268118918, Training Accuracy: 93.08333333333333\n",
      "Epoch 2/10, Batch 1900/4256, Training Loss: 0.269024179186672, Training Accuracy: 93.00657894736842\n",
      "Epoch 2/10, Batch 2000/4256, Training Loss: 0.2247828503884375, Training Accuracy: 93.00625\n",
      "Epoch 2/10, Batch 2100/4256, Training Loss: 0.2242385525163263, Training Accuracy: 93.00595238095238\n",
      "Epoch 2/10, Batch 2200/4256, Training Loss: 0.24916085589677095, Training Accuracy: 92.9659090909091\n",
      "Epoch 2/10, Batch 2300/4256, Training Loss: 0.2977981962263584, Training Accuracy: 92.91304347826087\n",
      "Epoch 2/10, Batch 2400/4256, Training Loss: 0.21006639868952334, Training Accuracy: 92.96354166666667\n",
      "Epoch 2/10, Batch 2500/4256, Training Loss: 0.22978100918233393, Training Accuracy: 92.945\n",
      "Epoch 2/10, Batch 2600/4256, Training Loss: 0.2541903028357774, Training Accuracy: 92.94711538461539\n",
      "Epoch 2/10, Batch 2700/4256, Training Loss: 0.21796632257290185, Training Accuracy: 92.95370370370371\n",
      "Epoch 2/10, Batch 2800/4256, Training Loss: 0.23546380726620555, Training Accuracy: 92.94642857142857\n",
      "Epoch 2/10, Batch 2900/4256, Training Loss: 0.20785239919554443, Training Accuracy: 92.98706896551724\n",
      "Epoch 2/10, Batch 3000/4256, Training Loss: 0.24871073302347213, Training Accuracy: 92.96666666666667\n",
      "Epoch 2/10, Batch 3100/4256, Training Loss: 0.26391190896742045, Training Accuracy: 92.95161290322581\n",
      "Epoch 2/10, Batch 3200/4256, Training Loss: 0.21821229717694224, Training Accuracy: 92.96484375\n",
      "Epoch 2/10, Batch 3300/4256, Training Loss: 0.1960870953835547, Training Accuracy: 92.99242424242425\n",
      "Epoch 2/10, Batch 3400/4256, Training Loss: 0.22571193815674634, Training Accuracy: 93.02573529411765\n",
      "Epoch 2/10, Batch 3500/4256, Training Loss: 0.2534210797958076, Training Accuracy: 93.01071428571429\n",
      "Epoch 2/10, Batch 3600/4256, Training Loss: 0.22447908588219434, Training Accuracy: 93.01736111111111\n",
      "Epoch 2/10, Batch 3700/4256, Training Loss: 0.2054940612334758, Training Accuracy: 93.07432432432432\n",
      "Epoch 2/10, Batch 3800/4256, Training Loss: 0.20350915883202106, Training Accuracy: 93.11842105263158\n",
      "Epoch 2/10, Batch 3900/4256, Training Loss: 0.26752871508244425, Training Accuracy: 93.125\n",
      "Epoch 2/10, Batch 4000/4256, Training Loss: 0.24763390801846982, Training Accuracy: 93.1125\n",
      "Epoch 2/10, Batch 4100/4256, Training Loss: 0.21824317594990134, Training Accuracy: 93.1280487804878\n",
      "Epoch 2/10, Batch 4200/4256, Training Loss: 0.20258631861768664, Training Accuracy: 93.13690476190476\n",
      "Epoch 2/10, Training Loss: 0.0030470371622280602, Training Accuracy: 93.14770758069727%, Validation Loss: 0.22405701498917865, Validation Accuracy: 93.7250293772033%\n",
      "Epoch 3/10, Batch 100/4256, Training Loss: 0.1335974584124051, Training Accuracy: 95.25\n",
      "Epoch 3/10, Batch 200/4256, Training Loss: 0.1285825420776382, Training Accuracy: 95.625\n",
      "Epoch 3/10, Batch 300/4256, Training Loss: 0.1687407056754455, Training Accuracy: 95.5\n",
      "Epoch 3/10, Batch 400/4256, Training Loss: 0.2197259645862505, Training Accuracy: 94.78125\n",
      "Epoch 3/10, Batch 500/4256, Training Loss: 0.15565687540452927, Training Accuracy: 94.75\n",
      "Epoch 3/10, Batch 600/4256, Training Loss: 0.19564060994889587, Training Accuracy: 94.66666666666667\n",
      "Epoch 3/10, Batch 700/4256, Training Loss: 0.21095170257613063, Training Accuracy: 94.375\n",
      "Epoch 3/10, Batch 800/4256, Training Loss: 0.14284741768846287, Training Accuracy: 94.546875\n",
      "Epoch 3/10, Batch 900/4256, Training Loss: 0.20391709194984287, Training Accuracy: 94.48611111111111\n",
      "Epoch 3/10, Batch 1000/4256, Training Loss: 0.1859306368790567, Training Accuracy: 94.425\n",
      "Epoch 3/10, Batch 1100/4256, Training Loss: 0.18550010757986457, Training Accuracy: 94.42045454545455\n",
      "Epoch 3/10, Batch 1200/4256, Training Loss: 0.1609299583407119, Training Accuracy: 94.44791666666667\n",
      "Epoch 3/10, Batch 1300/4256, Training Loss: 0.19302824813872577, Training Accuracy: 94.39423076923077\n",
      "Epoch 3/10, Batch 1400/4256, Training Loss: 0.16757611194858327, Training Accuracy: 94.38392857142857\n",
      "Epoch 3/10, Batch 1500/4256, Training Loss: 0.15065658487612382, Training Accuracy: 94.475\n",
      "Epoch 3/10, Batch 1600/4256, Training Loss: 0.14358026003930718, Training Accuracy: 94.609375\n",
      "Epoch 3/10, Batch 1700/4256, Training Loss: 0.15899178594816477, Training Accuracy: 94.67647058823529\n",
      "Epoch 3/10, Batch 1800/4256, Training Loss: 0.20022768968250604, Training Accuracy: 94.64583333333333\n",
      "Epoch 3/10, Batch 1900/4256, Training Loss: 0.15869542866013944, Training Accuracy: 94.67763157894737\n",
      "Epoch 3/10, Batch 2000/4256, Training Loss: 0.13813568999990822, Training Accuracy: 94.725\n",
      "Epoch 3/10, Batch 2100/4256, Training Loss: 0.17893889241619035, Training Accuracy: 94.73214285714286\n",
      "Epoch 3/10, Batch 2200/4256, Training Loss: 0.18175253263674676, Training Accuracy: 94.71022727272727\n",
      "Epoch 3/10, Batch 2300/4256, Training Loss: 0.14172104144003242, Training Accuracy: 94.7663043478261\n",
      "Epoch 3/10, Batch 2400/4256, Training Loss: 0.16443563234992326, Training Accuracy: 94.75520833333333\n",
      "Epoch 3/10, Batch 2500/4256, Training Loss: 0.17711130259558558, Training Accuracy: 94.725\n",
      "Epoch 3/10, Batch 2600/4256, Training Loss: 0.15895598467439412, Training Accuracy: 94.75961538461539\n",
      "Epoch 3/10, Batch 2700/4256, Training Loss: 0.18393208580673673, Training Accuracy: 94.75462962962963\n",
      "Epoch 3/10, Batch 2800/4256, Training Loss: 0.1840895400568843, Training Accuracy: 94.75\n",
      "Epoch 3/10, Batch 2900/4256, Training Loss: 0.17981563242617996, Training Accuracy: 94.74568965517241\n",
      "Epoch 3/10, Batch 3000/4256, Training Loss: 0.20073807063512505, Training Accuracy: 94.7\n",
      "Epoch 3/10, Batch 3100/4256, Training Loss: 0.2536412926297635, Training Accuracy: 94.6491935483871\n",
      "Epoch 3/10, Batch 3200/4256, Training Loss: 0.15791007850086317, Training Accuracy: 94.6640625\n",
      "Epoch 3/10, Batch 3300/4256, Training Loss: 0.18506485907360912, Training Accuracy: 94.6780303030303\n",
      "Epoch 3/10, Batch 3400/4256, Training Loss: 0.1401508964947425, Training Accuracy: 94.69485294117646\n",
      "Epoch 3/10, Batch 3500/4256, Training Loss: 0.1638459809590131, Training Accuracy: 94.69285714285714\n",
      "Epoch 3/10, Batch 3600/4256, Training Loss: 0.19036156575195493, Training Accuracy: 94.69791666666667\n",
      "Epoch 3/10, Batch 3700/4256, Training Loss: 0.1814949250756763, Training Accuracy: 94.69932432432432\n",
      "Epoch 3/10, Batch 3800/4256, Training Loss: 0.1923587668198161, Training Accuracy: 94.67434210526316\n",
      "Epoch 3/10, Batch 3900/4256, Training Loss: 0.174392649657093, Training Accuracy: 94.67628205128206\n",
      "Epoch 3/10, Batch 4000/4256, Training Loss: 0.18585192887112498, Training Accuracy: 94.646875\n",
      "Epoch 3/10, Batch 4100/4256, Training Loss: 0.15898373372387142, Training Accuracy: 94.65243902439025\n",
      "Epoch 3/10, Batch 4200/4256, Training Loss: 0.22260270592872985, Training Accuracy: 94.60119047619048\n",
      "Epoch 3/10, Training Loss: 0.002481541909930415, Training Accuracy: 94.59864305225129%, Validation Loss: 0.18875222172661088, Validation Accuracy: 94.66509988249119%\n",
      "Epoch 4/10, Batch 100/4256, Training Loss: 0.15252794744912535, Training Accuracy: 94.875\n",
      "Epoch 4/10, Batch 200/4256, Training Loss: 0.13384463584050535, Training Accuracy: 95.375\n",
      "Epoch 4/10, Batch 300/4256, Training Loss: 0.09172409998951479, Training Accuracy: 96.0\n",
      "Epoch 4/10, Batch 400/4256, Training Loss: 0.12594088796293362, Training Accuracy: 95.90625\n",
      "Epoch 4/10, Batch 500/4256, Training Loss: 0.12124974235659465, Training Accuracy: 96.025\n",
      "Epoch 4/10, Batch 600/4256, Training Loss: 0.18503127997973934, Training Accuracy: 95.8125\n",
      "Epoch 4/10, Batch 700/4256, Training Loss: 0.09109128447016701, Training Accuracy: 96.03571428571429\n",
      "Epoch 4/10, Batch 800/4256, Training Loss: 0.12802827055566013, Training Accuracy: 96.03125\n",
      "Epoch 4/10, Batch 900/4256, Training Loss: 0.18439856451936065, Training Accuracy: 95.77777777777777\n",
      "Epoch 4/10, Batch 1000/4256, Training Loss: 0.15263598588760943, Training Accuracy: 95.8125\n",
      "Epoch 4/10, Batch 1100/4256, Training Loss: 0.12100974110886455, Training Accuracy: 95.9090909090909\n",
      "Epoch 4/10, Batch 1200/4256, Training Loss: 0.11720059606013819, Training Accuracy: 95.83333333333333\n",
      "Epoch 4/10, Batch 1300/4256, Training Loss: 0.1219855675729923, Training Accuracy: 95.84615384615384\n",
      "Epoch 4/10, Batch 1400/4256, Training Loss: 0.15739718905300834, Training Accuracy: 95.78571428571429\n",
      "Epoch 4/10, Batch 1500/4256, Training Loss: 0.1378701701015234, Training Accuracy: 95.83333333333333\n",
      "Epoch 4/10, Batch 1600/4256, Training Loss: 0.11803018104750664, Training Accuracy: 95.8515625\n",
      "Epoch 4/10, Batch 1700/4256, Training Loss: 0.13814618615666405, Training Accuracy: 95.83823529411765\n",
      "Epoch 4/10, Batch 1800/4256, Training Loss: 0.1342827882419806, Training Accuracy: 95.80555555555556\n",
      "Epoch 4/10, Batch 1900/4256, Training Loss: 0.14195152114378287, Training Accuracy: 95.79605263157895\n",
      "Epoch 4/10, Batch 2000/4256, Training Loss: 0.18255929758190179, Training Accuracy: 95.7125\n",
      "Epoch 4/10, Batch 2100/4256, Training Loss: 0.16283442179788835, Training Accuracy: 95.67261904761905\n",
      "Epoch 4/10, Batch 2200/4256, Training Loss: 0.1211236715153791, Training Accuracy: 95.70454545454545\n",
      "Epoch 4/10, Batch 2300/4256, Training Loss: 0.13846458183135837, Training Accuracy: 95.70108695652173\n",
      "Epoch 4/10, Batch 2400/4256, Training Loss: 0.1445656527625397, Training Accuracy: 95.703125\n",
      "Epoch 4/10, Batch 2500/4256, Training Loss: 0.1605370462173596, Training Accuracy: 95.66\n",
      "Epoch 4/10, Batch 2600/4256, Training Loss: 0.15673889226047322, Training Accuracy: 95.64903846153847\n",
      "Epoch 4/10, Batch 2700/4256, Training Loss: 0.1727628303412348, Training Accuracy: 95.58333333333333\n",
      "Epoch 4/10, Batch 2800/4256, Training Loss: 0.15670731948921457, Training Accuracy: 95.58035714285714\n",
      "Epoch 4/10, Batch 2900/4256, Training Loss: 0.14689712545834482, Training Accuracy: 95.58189655172414\n",
      "Epoch 4/10, Batch 3000/4256, Training Loss: 0.1312103959545493, Training Accuracy: 95.5625\n",
      "Epoch 4/10, Batch 3100/4256, Training Loss: 0.18000870206858963, Training Accuracy: 95.54435483870968\n",
      "Epoch 4/10, Batch 3200/4256, Training Loss: 0.11036418199189939, Training Accuracy: 95.55078125\n",
      "Epoch 4/10, Batch 3300/4256, Training Loss: 0.1404734470800031, Training Accuracy: 95.54166666666667\n",
      "Epoch 4/10, Batch 3400/4256, Training Loss: 0.13320187104400247, Training Accuracy: 95.5625\n",
      "Epoch 4/10, Batch 3500/4256, Training Loss: 0.14218594192061573, Training Accuracy: 95.54285714285714\n",
      "Epoch 4/10, Batch 3600/4256, Training Loss: 0.18196679038344882, Training Accuracy: 95.53125\n",
      "Epoch 4/10, Batch 3700/4256, Training Loss: 0.13276555331191048, Training Accuracy: 95.54729729729729\n",
      "Epoch 4/10, Batch 3800/4256, Training Loss: 0.1544770670402795, Training Accuracy: 95.54934210526316\n",
      "Epoch 4/10, Batch 3900/4256, Training Loss: 0.16508823918527923, Training Accuracy: 95.55128205128206\n",
      "Epoch 4/10, Batch 4000/4256, Training Loss: 0.12647353584645316, Training Accuracy: 95.58125\n",
      "Epoch 4/10, Batch 4100/4256, Training Loss: 0.14065766380168498, Training Accuracy: 95.59146341463415\n",
      "Epoch 4/10, Batch 4200/4256, Training Loss: 0.1542958011198789, Training Accuracy: 95.57440476190476\n",
      "Epoch 4/10, Training Loss: 0.002124795010451252, Training Accuracy: 95.57376567685846%, Validation Loss: 0.1732613252320847, Validation Accuracy: 95.3701527614571%\n",
      "Epoch 5/10, Batch 100/4256, Training Loss: 0.12339184231823311, Training Accuracy: 95.75\n",
      "Epoch 5/10, Batch 200/4256, Training Loss: 0.1262278566916939, Training Accuracy: 95.8125\n",
      "Epoch 5/10, Batch 300/4256, Training Loss: 0.09006984391249716, Training Accuracy: 96.20833333333333\n",
      "Epoch 5/10, Batch 400/4256, Training Loss: 0.10286886758054607, Training Accuracy: 96.34375\n",
      "Epoch 5/10, Batch 500/4256, Training Loss: 0.10313059506821447, Training Accuracy: 96.325\n",
      "Epoch 5/10, Batch 600/4256, Training Loss: 0.0968368898855988, Training Accuracy: 96.5625\n",
      "Epoch 5/10, Batch 700/4256, Training Loss: 0.1008998296246864, Training Accuracy: 96.71428571428571\n",
      "Epoch 5/10, Batch 800/4256, Training Loss: 0.11912435674516018, Training Accuracy: 96.671875\n",
      "Epoch 5/10, Batch 900/4256, Training Loss: 0.1214338659006171, Training Accuracy: 96.63888888888889\n",
      "Epoch 5/10, Batch 1000/4256, Training Loss: 0.11547672717366368, Training Accuracy: 96.5875\n",
      "Epoch 5/10, Batch 1100/4256, Training Loss: 0.10139002683456055, Training Accuracy: 96.60227272727273\n",
      "Epoch 5/10, Batch 1200/4256, Training Loss: 0.10041797595913522, Training Accuracy: 96.625\n",
      "Epoch 5/10, Batch 1300/4256, Training Loss: 0.09522886822989676, Training Accuracy: 96.61538461538461\n",
      "Epoch 5/10, Batch 1400/4256, Training Loss: 0.07632675421249586, Training Accuracy: 96.66964285714286\n",
      "Epoch 5/10, Batch 1500/4256, Training Loss: 0.1196696389024146, Training Accuracy: 96.66666666666667\n",
      "Epoch 5/10, Batch 1600/4256, Training Loss: 0.13037478833692148, Training Accuracy: 96.59375\n",
      "Epoch 5/10, Batch 1700/4256, Training Loss: 0.10889581118244678, Training Accuracy: 96.59558823529412\n",
      "Epoch 5/10, Batch 1800/4256, Training Loss: 0.11438128279754892, Training Accuracy: 96.57638888888889\n",
      "Epoch 5/10, Batch 1900/4256, Training Loss: 0.11333912794361822, Training Accuracy: 96.5592105263158\n",
      "Epoch 5/10, Batch 2000/4256, Training Loss: 0.15590332025196404, Training Accuracy: 96.5375\n",
      "Epoch 5/10, Batch 2100/4256, Training Loss: 0.15239797477959655, Training Accuracy: 96.48809523809524\n",
      "Epoch 5/10, Batch 2200/4256, Training Loss: 0.1754205525200814, Training Accuracy: 96.41477272727273\n",
      "Epoch 5/10, Batch 2300/4256, Training Loss: 0.08356478759553283, Training Accuracy: 96.46195652173913\n",
      "Epoch 5/10, Batch 2400/4256, Training Loss: 0.11080869283992797, Training Accuracy: 96.484375\n",
      "Epoch 5/10, Batch 2500/4256, Training Loss: 0.10187352454173379, Training Accuracy: 96.5\n",
      "Epoch 5/10, Batch 2600/4256, Training Loss: 0.12169883230468258, Training Accuracy: 96.48076923076923\n",
      "Epoch 5/10, Batch 2700/4256, Training Loss: 0.11548752121860162, Training Accuracy: 96.47222222222223\n",
      "Epoch 5/10, Batch 2800/4256, Training Loss: 0.1564191548503004, Training Accuracy: 96.42410714285714\n",
      "Epoch 5/10, Batch 2900/4256, Training Loss: 0.10621008344343863, Training Accuracy: 96.41379310344827\n",
      "Epoch 5/10, Batch 3000/4256, Training Loss: 0.10280667238053866, Training Accuracy: 96.425\n",
      "Epoch 5/10, Batch 3100/4256, Training Loss: 0.07353718559606932, Training Accuracy: 96.47177419354838\n",
      "Epoch 5/10, Batch 3200/4256, Training Loss: 0.16073380045127122, Training Accuracy: 96.44140625\n",
      "Epoch 5/10, Batch 3300/4256, Training Loss: 0.1456731134210713, Training Accuracy: 96.40530303030303\n",
      "Epoch 5/10, Batch 3400/4256, Training Loss: 0.13570922859129497, Training Accuracy: 96.36029411764706\n",
      "Epoch 5/10, Batch 3500/4256, Training Loss: 0.1729244397650473, Training Accuracy: 96.32142857142857\n",
      "Epoch 5/10, Batch 3600/4256, Training Loss: 0.12458645636914298, Training Accuracy: 96.30902777777777\n",
      "Epoch 5/10, Batch 3700/4256, Training Loss: 0.1312692060484551, Training Accuracy: 96.29391891891892\n",
      "Epoch 5/10, Batch 3800/4256, Training Loss: 0.1270030426979065, Training Accuracy: 96.28618421052632\n",
      "Epoch 5/10, Batch 3900/4256, Training Loss: 0.1385684908577241, Training Accuracy: 96.27564102564102\n",
      "Epoch 5/10, Batch 4000/4256, Training Loss: 0.11892124230682384, Training Accuracy: 96.253125\n",
      "Epoch 5/10, Batch 4100/4256, Training Loss: 0.11444483173196204, Training Accuracy: 96.2560975609756\n",
      "Epoch 5/10, Batch 4200/4256, Training Loss: 0.16989341771928593, Training Accuracy: 96.22619047619048\n",
      "Epoch 5/10, Training Loss: 0.001706301823468035, Training Accuracy: 96.2023085734426%, Validation Loss: 0.19456045698915886, Validation Accuracy: 94.43008225616921%\n",
      "Epoch 6/10, Batch 100/4256, Training Loss: 0.08692948509939015, Training Accuracy: 96.75\n",
      "Epoch 6/10, Batch 200/4256, Training Loss: 0.07165459839510731, Training Accuracy: 97.0625\n",
      "Epoch 6/10, Batch 300/4256, Training Loss: 0.07613309180538635, Training Accuracy: 97.29166666666667\n",
      "Epoch 6/10, Batch 400/4256, Training Loss: 0.06546124366170261, Training Accuracy: 97.375\n",
      "Epoch 6/10, Batch 500/4256, Training Loss: 0.12979700663941912, Training Accuracy: 97.15\n",
      "Epoch 6/10, Batch 600/4256, Training Loss: 0.0633669798867777, Training Accuracy: 97.29166666666667\n",
      "Epoch 6/10, Batch 700/4256, Training Loss: 0.07924154956504935, Training Accuracy: 97.28571428571429\n",
      "Epoch 6/10, Batch 800/4256, Training Loss: 0.0800764847220853, Training Accuracy: 97.3125\n",
      "Epoch 6/10, Batch 900/4256, Training Loss: 0.08117992554442026, Training Accuracy: 97.30555555555556\n",
      "Epoch 6/10, Batch 1000/4256, Training Loss: 0.08777104555803816, Training Accuracy: 97.2875\n",
      "Epoch 6/10, Batch 1100/4256, Training Loss: 0.07844225308217574, Training Accuracy: 97.36363636363636\n",
      "Epoch 6/10, Batch 1200/4256, Training Loss: 0.10886795159662142, Training Accuracy: 97.28125\n",
      "Epoch 6/10, Batch 1300/4256, Training Loss: 0.08755492357420736, Training Accuracy: 97.23076923076923\n",
      "Epoch 6/10, Batch 1400/4256, Training Loss: 0.11744823303655721, Training Accuracy: 97.19642857142857\n",
      "Epoch 6/10, Batch 1500/4256, Training Loss: 0.07431330228049773, Training Accuracy: 97.20833333333333\n",
      "Epoch 6/10, Batch 1600/4256, Training Loss: 0.11216037022531963, Training Accuracy: 97.171875\n",
      "Epoch 6/10, Batch 1700/4256, Training Loss: 0.1355260877357796, Training Accuracy: 97.08823529411765\n",
      "Epoch 6/10, Batch 1800/4256, Training Loss: 0.1441066351812333, Training Accuracy: 97.01388888888889\n",
      "Epoch 6/10, Batch 1900/4256, Training Loss: 0.12430299337720499, Training Accuracy: 96.94736842105263\n",
      "Epoch 6/10, Batch 2000/4256, Training Loss: 0.11172602230217307, Training Accuracy: 96.925\n",
      "Epoch 6/10, Batch 2100/4256, Training Loss: 0.1113156285486184, Training Accuracy: 96.88095238095238\n",
      "Epoch 6/10, Batch 2200/4256, Training Loss: 0.09800531847227831, Training Accuracy: 96.85795454545455\n",
      "Epoch 6/10, Batch 2300/4256, Training Loss: 0.13098134536354336, Training Accuracy: 96.80434782608695\n",
      "Epoch 6/10, Batch 2400/4256, Training Loss: 0.10753506386769004, Training Accuracy: 96.77604166666667\n",
      "Epoch 6/10, Batch 2500/4256, Training Loss: 0.06959350544086192, Training Accuracy: 96.825\n",
      "Epoch 6/10, Batch 2600/4256, Training Loss: 0.08877481809060556, Training Accuracy: 96.82692307692308\n",
      "Epoch 6/10, Batch 2700/4256, Training Loss: 0.06018109146971255, Training Accuracy: 96.87037037037037\n",
      "Epoch 6/10, Batch 2800/4256, Training Loss: 0.1017378265503794, Training Accuracy: 96.83928571428571\n",
      "Epoch 6/10, Batch 2900/4256, Training Loss: 0.09812440762412734, Training Accuracy: 96.85344827586206\n",
      "Epoch 6/10, Batch 3000/4256, Training Loss: 0.1090569920791313, Training Accuracy: 96.82916666666667\n",
      "Epoch 6/10, Batch 3100/4256, Training Loss: 0.10228840849013068, Training Accuracy: 96.80645161290323\n",
      "Epoch 6/10, Batch 3200/4256, Training Loss: 0.08291742086177692, Training Accuracy: 96.83203125\n",
      "Epoch 6/10, Batch 3300/4256, Training Loss: 0.07953132873633877, Training Accuracy: 96.83333333333333\n",
      "Epoch 6/10, Batch 3400/4256, Training Loss: 0.07252309354837053, Training Accuracy: 96.86397058823529\n",
      "Epoch 6/10, Batch 3500/4256, Training Loss: 0.1213509961636737, Training Accuracy: 96.85357142857143\n",
      "Epoch 6/10, Batch 3600/4256, Training Loss: 0.1026178558729589, Training Accuracy: 96.87152777777777\n",
      "Epoch 6/10, Batch 3700/4256, Training Loss: 0.06240775792626664, Training Accuracy: 96.9054054054054\n",
      "Epoch 6/10, Batch 3800/4256, Training Loss: 0.10256786658079363, Training Accuracy: 96.91447368421052\n",
      "Epoch 6/10, Batch 3900/4256, Training Loss: 0.09826030700380216, Training Accuracy: 96.9198717948718\n",
      "Epoch 6/10, Batch 4000/4256, Training Loss: 0.13063929855823517, Training Accuracy: 96.89375\n",
      "Epoch 6/10, Batch 4100/4256, Training Loss: 0.08942262745811604, Training Accuracy: 96.89634146341463\n",
      "Epoch 6/10, Batch 4200/4256, Training Loss: 0.10119743540766649, Training Accuracy: 96.88392857142857\n",
      "Epoch 6/10, Training Loss: 0.00149399193546024, Training Accuracy: 96.87784533145359%, Validation Loss: 0.2096772433257711, Validation Accuracy: 94.61809635722679%\n",
      "Epoch 7/10, Batch 100/4256, Training Loss: 0.06135274647152983, Training Accuracy: 97.5\n",
      "Epoch 7/10, Batch 200/4256, Training Loss: 0.06483443602657644, Training Accuracy: 97.8125\n",
      "Epoch 7/10, Batch 300/4256, Training Loss: 0.054006242415925956, Training Accuracy: 97.95833333333333\n",
      "Epoch 7/10, Batch 400/4256, Training Loss: 0.08974885896634077, Training Accuracy: 97.71875\n",
      "Epoch 7/10, Batch 500/4256, Training Loss: 0.08420690167171414, Training Accuracy: 97.7\n",
      "Epoch 7/10, Batch 600/4256, Training Loss: 0.06541364819306182, Training Accuracy: 97.6875\n",
      "Epoch 7/10, Batch 700/4256, Training Loss: 0.06936276610300411, Training Accuracy: 97.76785714285714\n",
      "Epoch 7/10, Batch 800/4256, Training Loss: 0.08169870259123854, Training Accuracy: 97.6875\n",
      "Epoch 7/10, Batch 900/4256, Training Loss: 0.1068814745900454, Training Accuracy: 97.54166666666667\n",
      "Epoch 7/10, Batch 1000/4256, Training Loss: 0.10772769227158278, Training Accuracy: 97.4\n",
      "Epoch 7/10, Batch 1100/4256, Training Loss: 0.08291858154523651, Training Accuracy: 97.44318181818181\n",
      "Epoch 7/10, Batch 1200/4256, Training Loss: 0.06275810308638029, Training Accuracy: 97.47916666666667\n",
      "Epoch 7/10, Batch 1300/4256, Training Loss: 0.07399829472095007, Training Accuracy: 97.45192307692308\n",
      "Epoch 7/10, Batch 1400/4256, Training Loss: 0.057664430977747545, Training Accuracy: 97.48214285714286\n",
      "Epoch 7/10, Batch 1500/4256, Training Loss: 0.10349480281583964, Training Accuracy: 97.41666666666667\n",
      "Epoch 7/10, Batch 1600/4256, Training Loss: 0.0928285402758047, Training Accuracy: 97.375\n",
      "Epoch 7/10, Batch 1700/4256, Training Loss: 0.08763552738062572, Training Accuracy: 97.38235294117646\n",
      "Epoch 7/10, Batch 1800/4256, Training Loss: 0.09298709592665545, Training Accuracy: 97.35416666666667\n",
      "Epoch 7/10, Batch 1900/4256, Training Loss: 0.08690381705528125, Training Accuracy: 97.3157894736842\n",
      "Epoch 7/10, Batch 2000/4256, Training Loss: 0.09567933604703285, Training Accuracy: 97.28125\n",
      "Epoch 7/10, Batch 2100/4256, Training Loss: 0.08036321447289083, Training Accuracy: 97.27380952380952\n",
      "Epoch 7/10, Batch 2200/4256, Training Loss: 0.09901253034942784, Training Accuracy: 97.25568181818181\n",
      "Epoch 7/10, Batch 2300/4256, Training Loss: 0.0817600945851882, Training Accuracy: 97.26086956521739\n",
      "Epoch 7/10, Batch 2400/4256, Training Loss: 0.09282024137035477, Training Accuracy: 97.265625\n",
      "Epoch 7/10, Batch 2500/4256, Training Loss: 0.09441688702849206, Training Accuracy: 97.265\n",
      "Epoch 7/10, Batch 2600/4256, Training Loss: 0.07422967486258131, Training Accuracy: 97.26442307692308\n",
      "Epoch 7/10, Batch 2700/4256, Training Loss: 0.07569048034580192, Training Accuracy: 97.25462962962963\n",
      "Epoch 7/10, Batch 2800/4256, Training Loss: 0.09234285039099632, Training Accuracy: 97.25\n",
      "Epoch 7/10, Batch 2900/4256, Training Loss: 0.10415549009281676, Training Accuracy: 97.22844827586206\n",
      "Epoch 7/10, Batch 3000/4256, Training Loss: 0.09421276920591481, Training Accuracy: 97.2125\n",
      "Epoch 7/10, Batch 3100/4256, Training Loss: 0.0973776914642076, Training Accuracy: 97.21370967741936\n",
      "Epoch 7/10, Batch 3200/4256, Training Loss: 0.0713401545007946, Training Accuracy: 97.2265625\n",
      "Epoch 7/10, Batch 3300/4256, Training Loss: 0.07278687075595372, Training Accuracy: 97.23863636363636\n",
      "Epoch 7/10, Batch 3400/4256, Training Loss: 0.10511915625014807, Training Accuracy: 97.19117647058823\n",
      "Epoch 7/10, Batch 3500/4256, Training Loss: 0.10536155460693408, Training Accuracy: 97.16785714285714\n",
      "Epoch 7/10, Batch 3600/4256, Training Loss: 0.10175217490294017, Training Accuracy: 97.15972222222223\n",
      "Epoch 7/10, Batch 3700/4256, Training Loss: 0.10313311033096398, Training Accuracy: 97.125\n",
      "Epoch 7/10, Batch 3800/4256, Training Loss: 0.06927156761637888, Training Accuracy: 97.14473684210526\n",
      "Epoch 7/10, Batch 3900/4256, Training Loss: 0.07003876933071297, Training Accuracy: 97.17307692307692\n",
      "Epoch 7/10, Batch 4000/4256, Training Loss: 0.10143413212150336, Training Accuracy: 97.165625\n",
      "Epoch 7/10, Batch 4100/4256, Training Loss: 0.08306891062529757, Training Accuracy: 97.1798780487805\n",
      "Epoch 7/10, Batch 4200/4256, Training Loss: 0.09330398472491652, Training Accuracy: 97.17261904761905\n",
      "Epoch 7/10, Training Loss: 0.0011137015859768646, Training Accuracy: 97.17449408171058%, Validation Loss: 0.23809531881738108, Validation Accuracy: 95.08813160987074%\n",
      "Epoch 8/10, Batch 100/4256, Training Loss: 0.0905017887262511, Training Accuracy: 97.375\n",
      "Epoch 8/10, Batch 200/4256, Training Loss: 0.05656734899443108, Training Accuracy: 97.75\n",
      "Epoch 8/10, Batch 300/4256, Training Loss: 0.06336295172979589, Training Accuracy: 97.75\n",
      "Epoch 8/10, Batch 400/4256, Training Loss: 0.04316269111412112, Training Accuracy: 98.03125\n",
      "Epoch 8/10, Batch 500/4256, Training Loss: 0.03838123421301134, Training Accuracy: 98.175\n",
      "Epoch 8/10, Batch 600/4256, Training Loss: 0.03990329175037914, Training Accuracy: 98.25\n",
      "Epoch 8/10, Batch 700/4256, Training Loss: 0.04252363461710047, Training Accuracy: 98.32142857142857\n",
      "Epoch 8/10, Batch 800/4256, Training Loss: 0.0335563587769866, Training Accuracy: 98.40625\n",
      "Epoch 8/10, Batch 900/4256, Training Loss: 0.05366083614702802, Training Accuracy: 98.43055555555556\n",
      "Epoch 8/10, Batch 1000/4256, Training Loss: 0.05079933617642382, Training Accuracy: 98.4625\n",
      "Epoch 8/10, Batch 1100/4256, Training Loss: 0.043634858831646854, Training Accuracy: 98.47727272727273\n",
      "Epoch 8/10, Batch 1200/4256, Training Loss: 0.03670166707073804, Training Accuracy: 98.52083333333333\n",
      "Epoch 8/10, Batch 1300/4256, Training Loss: 0.03642135470407084, Training Accuracy: 98.52884615384616\n",
      "Epoch 8/10, Batch 1400/4256, Training Loss: 0.024425547118007672, Training Accuracy: 98.55357142857143\n",
      "Epoch 8/10, Batch 1500/4256, Training Loss: 0.06714097384072375, Training Accuracy: 98.49166666666666\n",
      "Epoch 8/10, Batch 1600/4256, Training Loss: 0.030629611070617103, Training Accuracy: 98.53125\n",
      "Epoch 8/10, Batch 1700/4256, Training Loss: 0.04903558141581016, Training Accuracy: 98.53676470588235\n",
      "Epoch 8/10, Batch 1800/4256, Training Loss: 0.021827311932865995, Training Accuracy: 98.57638888888889\n",
      "Epoch 8/10, Batch 1900/4256, Training Loss: 0.020831563679967077, Training Accuracy: 98.61842105263158\n",
      "Epoch 8/10, Batch 2000/4256, Training Loss: 0.030218870305689052, Training Accuracy: 98.625\n",
      "Epoch 8/10, Batch 2100/4256, Training Loss: 0.03209402579872403, Training Accuracy: 98.63095238095238\n",
      "Epoch 8/10, Batch 2200/4256, Training Loss: 0.038012661359098275, Training Accuracy: 98.64772727272727\n",
      "Epoch 8/10, Batch 2300/4256, Training Loss: 0.038517870463256255, Training Accuracy: 98.6304347826087\n",
      "Epoch 8/10, Batch 2400/4256, Training Loss: 0.03512611373123946, Training Accuracy: 98.65104166666667\n",
      "Epoch 8/10, Batch 2500/4256, Training Loss: 0.029338262251985724, Training Accuracy: 98.67\n",
      "Epoch 8/10, Batch 2600/4256, Training Loss: 0.03115206221700646, Training Accuracy: 98.67788461538461\n",
      "Epoch 8/10, Batch 2700/4256, Training Loss: 0.04052014946180862, Training Accuracy: 98.67592592592592\n",
      "Epoch 8/10, Batch 2800/4256, Training Loss: 0.03477640638855519, Training Accuracy: 98.69196428571429\n",
      "Epoch 8/10, Batch 2900/4256, Training Loss: 0.029173451771494, Training Accuracy: 98.70258620689656\n",
      "Epoch 8/10, Batch 3000/4256, Training Loss: 0.03282960482581984, Training Accuracy: 98.69166666666666\n",
      "Epoch 8/10, Batch 3100/4256, Training Loss: 0.030640242223453244, Training Accuracy: 98.68951612903226\n",
      "Epoch 8/10, Batch 3200/4256, Training Loss: 0.0322830395452911, Training Accuracy: 98.6953125\n",
      "Epoch 8/10, Batch 3300/4256, Training Loss: 0.036837017881043724, Training Accuracy: 98.68939393939394\n",
      "Epoch 8/10, Batch 3400/4256, Training Loss: 0.037194897551817124, Training Accuracy: 98.69117647058823\n",
      "Epoch 8/10, Batch 3500/4256, Training Loss: 0.03719226766261272, Training Accuracy: 98.68928571428572\n",
      "Epoch 8/10, Batch 3600/4256, Training Loss: 0.017718838932632933, Training Accuracy: 98.71180555555556\n",
      "Epoch 8/10, Batch 3700/4256, Training Loss: 0.03759627568826545, Training Accuracy: 98.70270270270271\n",
      "Epoch 8/10, Batch 3800/4256, Training Loss: 0.038495778916039856, Training Accuracy: 98.69736842105263\n",
      "Epoch 8/10, Batch 3900/4256, Training Loss: 0.03615335355862044, Training Accuracy: 98.70192307692308\n",
      "Epoch 8/10, Batch 4000/4256, Training Loss: 0.034193727303645574, Training Accuracy: 98.70625\n",
      "Epoch 8/10, Batch 4100/4256, Training Loss: 0.031198169053532183, Training Accuracy: 98.71951219512195\n",
      "Epoch 8/10, Batch 4200/4256, Training Loss: 0.030353911351267016, Training Accuracy: 98.73214285714286\n",
      "Epoch 8/10, Training Loss: 0.0008033206709285851, Training Accuracy: 98.7194172761183%, Validation Loss: 0.15639184216501803, Validation Accuracy: 96.80376028202116%\n",
      "Epoch 9/10, Batch 100/4256, Training Loss: 0.020669349348463584, Training Accuracy: 99.25\n",
      "Epoch 9/10, Batch 200/4256, Training Loss: 0.022131604188325583, Training Accuracy: 99.1875\n",
      "Epoch 9/10, Batch 300/4256, Training Loss: 0.021065200845478103, Training Accuracy: 99.25\n",
      "Epoch 9/10, Batch 400/4256, Training Loss: 0.01612158049858408, Training Accuracy: 99.34375\n",
      "Epoch 9/10, Batch 500/4256, Training Loss: 0.018119697510264814, Training Accuracy: 99.35\n",
      "Epoch 9/10, Batch 600/4256, Training Loss: 0.015951421145146014, Training Accuracy: 99.41666666666667\n",
      "Epoch 9/10, Batch 700/4256, Training Loss: 0.018788860653585288, Training Accuracy: 99.41071428571429\n",
      "Epoch 9/10, Batch 800/4256, Training Loss: 0.01368724028870929, Training Accuracy: 99.4375\n",
      "Epoch 9/10, Batch 900/4256, Training Loss: 0.01450885907121119, Training Accuracy: 99.48611111111111\n",
      "Epoch 9/10, Batch 1000/4256, Training Loss: 0.02204439332781476, Training Accuracy: 99.475\n",
      "Epoch 9/10, Batch 1100/4256, Training Loss: 0.01342992026678985, Training Accuracy: 99.47727272727273\n",
      "Epoch 9/10, Batch 1200/4256, Training Loss: 0.02227635326446034, Training Accuracy: 99.46875\n",
      "Epoch 9/10, Batch 1300/4256, Training Loss: 0.020964617694844492, Training Accuracy: 99.4326923076923\n",
      "Epoch 9/10, Batch 1400/4256, Training Loss: 0.022930526036943774, Training Accuracy: 99.41071428571429\n",
      "Epoch 9/10, Batch 1500/4256, Training Loss: 0.024982338906193037, Training Accuracy: 99.375\n",
      "Epoch 9/10, Batch 1600/4256, Training Loss: 0.0193762454908574, Training Accuracy: 99.3828125\n",
      "Epoch 9/10, Batch 1700/4256, Training Loss: 0.03377794514890411, Training Accuracy: 99.33823529411765\n",
      "Epoch 9/10, Batch 1800/4256, Training Loss: 0.020241338680934858, Training Accuracy: 99.34027777777777\n",
      "Epoch 9/10, Batch 1900/4256, Training Loss: 0.019517539069493068, Training Accuracy: 99.34210526315789\n",
      "Epoch 9/10, Batch 2000/4256, Training Loss: 0.016518526388390454, Training Accuracy: 99.34375\n",
      "Epoch 9/10, Batch 2100/4256, Training Loss: 0.018371465115487807, Training Accuracy: 99.33928571428571\n",
      "Epoch 9/10, Batch 2200/4256, Training Loss: 0.01547132733889157, Training Accuracy: 99.35227272727273\n",
      "Epoch 9/10, Batch 2300/4256, Training Loss: 0.01682187213940779, Training Accuracy: 99.34782608695652\n",
      "Epoch 9/10, Batch 2400/4256, Training Loss: 0.016895764140499522, Training Accuracy: 99.34895833333333\n",
      "Epoch 9/10, Batch 2500/4256, Training Loss: 0.01995254883011512, Training Accuracy: 99.345\n",
      "Epoch 9/10, Batch 2600/4256, Training Loss: 0.025196599465343753, Training Accuracy: 99.32692307692308\n",
      "Epoch 9/10, Batch 2700/4256, Training Loss: 0.019894846171519022, Training Accuracy: 99.33333333333333\n",
      "Epoch 9/10, Batch 2800/4256, Training Loss: 0.027944609466649128, Training Accuracy: 99.33035714285714\n",
      "Epoch 9/10, Batch 2900/4256, Training Loss: 0.018511369757834472, Training Accuracy: 99.33189655172414\n",
      "Epoch 9/10, Batch 3000/4256, Training Loss: 0.018194067092917977, Training Accuracy: 99.33333333333333\n",
      "Epoch 9/10, Batch 3100/4256, Training Loss: 0.015780541717685993, Training Accuracy: 99.33467741935483\n",
      "Epoch 9/10, Batch 3200/4256, Training Loss: 0.019695647979606292, Training Accuracy: 99.33203125\n",
      "Epoch 9/10, Batch 3300/4256, Training Loss: 0.02343005068731145, Training Accuracy: 99.33333333333333\n",
      "Epoch 9/10, Batch 3400/4256, Training Loss: 0.016911888740432913, Training Accuracy: 99.3345588235294\n",
      "Epoch 9/10, Batch 3500/4256, Training Loss: 0.016232357469489214, Training Accuracy: 99.33214285714286\n",
      "Epoch 9/10, Batch 3600/4256, Training Loss: 0.011515997437236365, Training Accuracy: 99.34027777777777\n",
      "Epoch 9/10, Batch 3700/4256, Training Loss: 0.018493710110196845, Training Accuracy: 99.33108108108108\n",
      "Epoch 9/10, Batch 3800/4256, Training Loss: 0.014850990718332468, Training Accuracy: 99.33881578947368\n",
      "Epoch 9/10, Batch 3900/4256, Training Loss: 0.020635884922376134, Training Accuracy: 99.33653846153847\n",
      "Epoch 9/10, Batch 4000/4256, Training Loss: 0.019004650158894947, Training Accuracy: 99.3375\n",
      "Epoch 9/10, Batch 4100/4256, Training Loss: 0.0188593710391433, Training Accuracy: 99.33536585365853\n",
      "Epoch 9/10, Batch 4200/4256, Training Loss: 0.015427021189971128, Training Accuracy: 99.33630952380952\n",
      "Epoch 9/10, Training Loss: 0.00010257564608388263, Training Accuracy: 99.34502305636326%, Validation Loss: 0.17340429602067797, Validation Accuracy: 96.66274970622797%\n",
      "Epoch 10/10, Batch 100/4256, Training Loss: 0.021484022578879377, Training Accuracy: 99.25\n",
      "Epoch 10/10, Batch 200/4256, Training Loss: 0.007051663682068466, Training Accuracy: 99.5625\n",
      "Epoch 10/10, Batch 300/4256, Training Loss: 0.017268102309462848, Training Accuracy: 99.54166666666667\n",
      "Epoch 10/10, Batch 400/4256, Training Loss: 0.017659961349418152, Training Accuracy: 99.53125\n",
      "Epoch 10/10, Batch 500/4256, Training Loss: 0.023282389122359744, Training Accuracy: 99.55\n",
      "Epoch 10/10, Batch 600/4256, Training Loss: 0.007997054142542766, Training Accuracy: 99.60416666666667\n",
      "Epoch 10/10, Batch 700/4256, Training Loss: 0.01216444557030627, Training Accuracy: 99.60714285714286\n",
      "Epoch 10/10, Batch 800/4256, Training Loss: 0.012604349878092762, Training Accuracy: 99.59375\n",
      "Epoch 10/10, Batch 900/4256, Training Loss: 0.012634036935196491, Training Accuracy: 99.58333333333333\n",
      "Epoch 10/10, Batch 1000/4256, Training Loss: 0.018713470022266847, Training Accuracy: 99.5375\n",
      "Epoch 10/10, Batch 1100/4256, Training Loss: 0.005712957185896812, Training Accuracy: 99.57954545454545\n",
      "Epoch 10/10, Batch 1200/4256, Training Loss: 0.010783356601750711, Training Accuracy: 99.59375\n",
      "Epoch 10/10, Batch 1300/4256, Training Loss: 0.017871583039450342, Training Accuracy: 99.57692307692308\n",
      "Epoch 10/10, Batch 1400/4256, Training Loss: 0.02418853833398316, Training Accuracy: 99.53571428571429\n",
      "Epoch 10/10, Batch 1500/4256, Training Loss: 0.0244288175071415, Training Accuracy: 99.525\n",
      "Epoch 10/10, Batch 1600/4256, Training Loss: 0.011526066564110806, Training Accuracy: 99.5390625\n",
      "Epoch 10/10, Batch 1700/4256, Training Loss: 0.018804614497421424, Training Accuracy: 99.52941176470588\n",
      "Epoch 10/10, Batch 1800/4256, Training Loss: 0.014091539236833341, Training Accuracy: 99.53472222222223\n",
      "Epoch 10/10, Batch 1900/4256, Training Loss: 0.012848610859218752, Training Accuracy: 99.54605263157895\n",
      "Epoch 10/10, Batch 2000/4256, Training Loss: 0.01689984581891622, Training Accuracy: 99.5375\n",
      "Epoch 10/10, Batch 2100/4256, Training Loss: 0.014586083144095027, Training Accuracy: 99.54761904761905\n",
      "Epoch 10/10, Batch 2200/4256, Training Loss: 0.01412722190580098, Training Accuracy: 99.54545454545455\n",
      "Epoch 10/10, Batch 2300/4256, Training Loss: 0.01055252196470974, Training Accuracy: 99.54347826086956\n",
      "Epoch 10/10, Batch 2400/4256, Training Loss: 0.01406804855185328, Training Accuracy: 99.546875\n",
      "Epoch 10/10, Batch 2500/4256, Training Loss: 0.02645164091256447, Training Accuracy: 99.53\n",
      "Epoch 10/10, Batch 2600/4256, Training Loss: 0.00967196391102334, Training Accuracy: 99.54326923076923\n",
      "Epoch 10/10, Batch 2700/4256, Training Loss: 0.013104237596999156, Training Accuracy: 99.54629629629629\n",
      "Epoch 10/10, Batch 2800/4256, Training Loss: 0.017823174957447917, Training Accuracy: 99.54464285714286\n",
      "Epoch 10/10, Batch 2900/4256, Training Loss: 0.013547983172466048, Training Accuracy: 99.54741379310344\n",
      "Epoch 10/10, Batch 3000/4256, Training Loss: 0.0190208142886695, Training Accuracy: 99.54166666666667\n",
      "Epoch 10/10, Batch 3100/4256, Training Loss: 0.021794581371359527, Training Accuracy: 99.52016129032258\n",
      "Epoch 10/10, Batch 3200/4256, Training Loss: 0.007840121581684798, Training Accuracy: 99.53125\n",
      "Epoch 10/10, Batch 3300/4256, Training Loss: 0.011079406236167415, Training Accuracy: 99.54166666666667\n",
      "Epoch 10/10, Batch 3400/4256, Training Loss: 0.012800046302363626, Training Accuracy: 99.53308823529412\n",
      "Epoch 10/10, Batch 3500/4256, Training Loss: 0.01556887326107244, Training Accuracy: 99.52142857142857\n",
      "Epoch 10/10, Batch 3600/4256, Training Loss: 0.0072853048321485404, Training Accuracy: 99.53125\n",
      "Epoch 10/10, Batch 3700/4256, Training Loss: 0.0065272325953264956, Training Accuracy: 99.54054054054055\n",
      "Epoch 10/10, Batch 3800/4256, Training Loss: 0.01789891055501357, Training Accuracy: 99.53289473684211\n",
      "Epoch 10/10, Batch 3900/4256, Training Loss: 0.013267587067530258, Training Accuracy: 99.53846153846153\n",
      "Epoch 10/10, Batch 4000/4256, Training Loss: 0.022001932117018442, Training Accuracy: 99.5375\n",
      "Epoch 10/10, Batch 4100/4256, Training Loss: 0.006505207875088672, Training Accuracy: 99.54573170731707\n",
      "Epoch 10/10, Batch 4200/4256, Training Loss: 0.006202223143918673, Training Accuracy: 99.55357142857143\n",
      "Epoch 10/10, Training Loss: 0.00013510347933272287, Training Accuracy: 99.5535583164449%, Validation Loss: 0.18034835217224127, Validation Accuracy: 96.66274970622797%\n"
     ]
    }
   ],
   "source": [
    "for epoch in range(num_epochs):\n",
    "    model.train()\n",
    "    running_loss = 0.0\n",
    "    correct_train = 0\n",
    "    total_train = 0\n",
    "\n",
    "    for i, (inputs, labels) in enumerate(train_loader):\n",
    "        inputs, labels = inputs.to(device), labels.to(device)\n",
    "        optimizer.zero_grad()\n",
    "        outputs = model(inputs)\n",
    "        loss = criterion(outputs, labels)\n",
    "        loss.backward()\n",
    "        optimizer.step()\n",
    "        running_loss += loss.item()\n",
    "\n",
    "        _, predicted_train = torch.max(outputs.data, 1)\n",
    "        total_train += labels.size(0)\n",
    "        correct_train += (predicted_train == labels).sum().item()\n",
    "\n",
    "        # Print training loss and accuracy every 100 batches\n",
    "        if i % 100 == 99:\n",
    "            print(f'Epoch {epoch + 1}/{num_epochs}, Batch {i + 1}/{len(train_loader)}, '\n",
    "                  f'Training Loss: {running_loss / 100}, Training Accuracy: {100 * correct_train / total_train}')\n",
    "            running_loss = 0.0\n",
    "\n",
    "    # Calculate training accuracy after the epoch\n",
    "    training_accuracy = correct_train / total_train\n",
    "\n",
    "    # Validation\n",
    "    model.eval()\n",
    "    correct_val = 0\n",
    "    total_val = 0\n",
    "    val_running_loss = 0.0\n",
    "\n",
    "    with torch.no_grad():\n",
    "        for inputs, labels in val_loader:\n",
    "            inputs, labels = inputs.to(device), labels.to(device)\n",
    "            outputs = model(inputs)\n",
    "            loss = criterion(outputs, labels)\n",
    "            val_running_loss += loss.item()\n",
    "\n",
    "            _, predicted_val = torch.max(outputs.data, 1)\n",
    "            total_val += labels.size(0)\n",
    "            correct_val += (predicted_val == labels).sum().item()\n",
    "\n",
    "            # Append predictions and targets for confusion matrix\n",
    "            predictions.append(predicted_val.cpu().numpy())\n",
    "            targets.append(labels.cpu().numpy())\n",
    "\n",
    "    # Calculate validation accuracy after the epoch\n",
    "    validation_accuracy = correct_val / total_val\n",
    "    average_val_loss = val_running_loss / len(val_loader)\n",
    "\n",
    "    print(f'Epoch {epoch + 1}/{num_epochs}, '\n",
    "          f'Training Loss: {running_loss / len(train_loader)}, '\n",
    "          f'Training Accuracy: {100 * training_accuracy}%, '\n",
    "          f'Validation Loss: {average_val_loss}, '\n",
    "          f'Validation Accuracy: {100 * validation_accuracy}%')\n",
    "\n",
    "    # Append training and validation metrics for plotting\n",
    "    train_losses.append(running_loss / len(train_loader))\n",
    "    train_accuracies.append(training_accuracy)\n",
    "    val_losses.append(average_val_loss)\n",
    "    val_accuracies.append(validation_accuracy)\n",
    "\n",
    "    scheduler.step()"
   ]
  },
  {
   "cell_type": "code",
   "execution_count": 21,
   "id": "9ee7c5f3",
   "metadata": {
    "execution": {
     "iopub.execute_input": "2023-12-24T00:00:33.725309Z",
     "iopub.status.busy": "2023-12-24T00:00:33.724952Z",
     "iopub.status.idle": "2023-12-24T00:01:48.781172Z",
     "shell.execute_reply": "2023-12-24T00:01:48.780198Z"
    },
    "papermill": {
     "duration": 75.145926,
     "end_time": "2023-12-24T00:01:48.827168",
     "exception": false,
     "start_time": "2023-12-24T00:00:33.681242",
     "status": "completed"
    },
    "tags": []
   },
   "outputs": [
    {
     "name": "stdout",
     "output_type": "stream",
     "text": [
      "Test Accuracy: 97.04016913319239%\n"
     ]
    }
   ],
   "source": [
    "model.eval()\n",
    "correct = 0\n",
    "total = 0\n",
    "\n",
    "with torch.no_grad():\n",
    "    for inputs, labels in test_loader:\n",
    "        inputs, labels = inputs.to(device), labels.to(device)\n",
    "        outputs = model(inputs)\n",
    "        _, predicted = torch.max(outputs.data, 1)\n",
    "        total += labels.size(0)\n",
    "        correct += (predicted == labels).sum().item()\n",
    "\n",
    "test_accuracy = correct / total\n",
    "print(f'Test Accuracy: {100 * test_accuracy}%')"
   ]
  },
  {
   "cell_type": "markdown",
   "id": "312583b5",
   "metadata": {
    "papermill": {
     "duration": 0.045443,
     "end_time": "2023-12-24T00:01:48.918174",
     "exception": false,
     "start_time": "2023-12-24T00:01:48.872731",
     "status": "completed"
    },
    "tags": []
   },
   "source": [
    "***VISUALIZE THE MODEL***"
   ]
  },
  {
   "cell_type": "code",
   "execution_count": 22,
   "id": "e8fdf11a",
   "metadata": {
    "execution": {
     "iopub.execute_input": "2023-12-24T00:01:49.007879Z",
     "iopub.status.busy": "2023-12-24T00:01:49.007472Z",
     "iopub.status.idle": "2023-12-24T00:01:49.018486Z",
     "shell.execute_reply": "2023-12-24T00:01:49.017540Z"
    },
    "papermill": {
     "duration": 0.05884,
     "end_time": "2023-12-24T00:01:49.020669",
     "exception": false,
     "start_time": "2023-12-24T00:01:48.961829",
     "status": "completed"
    },
    "tags": []
   },
   "outputs": [
    {
     "data": {
      "text/plain": [
       "<Figure size 1200x400 with 0 Axes>"
      ]
     },
     "execution_count": 22,
     "metadata": {},
     "output_type": "execute_result"
    },
    {
     "data": {
      "text/plain": [
       "<Figure size 1200x400 with 0 Axes>"
      ]
     },
     "metadata": {},
     "output_type": "display_data"
    }
   ],
   "source": [
    "# Plotting loss and accuracy curves\n",
    "plt.figure(figsize=(12, 4))"
   ]
  },
  {
   "cell_type": "code",
   "execution_count": 23,
   "id": "db1cd77f",
   "metadata": {
    "execution": {
     "iopub.execute_input": "2023-12-24T00:01:49.114824Z",
     "iopub.status.busy": "2023-12-24T00:01:49.114436Z",
     "iopub.status.idle": "2023-12-24T00:01:49.448987Z",
     "shell.execute_reply": "2023-12-24T00:01:49.447985Z"
    },
    "papermill": {
     "duration": 0.383361,
     "end_time": "2023-12-24T00:01:49.451339",
     "exception": false,
     "start_time": "2023-12-24T00:01:49.067978",
     "status": "completed"
    },
    "tags": []
   },
   "outputs": [
    {
     "data": {
      "text/plain": [
       "<matplotlib.legend.Legend at 0x7bb188134a60>"
      ]
     },
     "execution_count": 23,
     "metadata": {},
     "output_type": "execute_result"
    },
    {
     "data": {
      "image/png": "[encoded data removed]",
      "text/plain": [
       "<Figure size 640x480 with 1 Axes>"
      ]
     },
     "metadata": {},
     "output_type": "display_data"
    }
   ],
   "source": [
    "# Plotting training and validation loss\n",
    "plt.subplot(1, 2, 1)\n",
    "plt.plot(train_losses, label='Training Loss')\n",
    "plt.plot(val_losses, label='Validation Loss')\n",
    "plt.xlabel('Epoch')\n",
    "plt.ylabel('Loss')\n",
    "plt.title('Training and Validation Loss')\n",
    "plt.legend()"
   ]
  },
  {
   "cell_type": "code",
   "execution_count": 24,
   "id": "192d5472",
   "metadata": {
    "execution": {
     "iopub.execute_input": "2023-12-24T00:01:49.544647Z",
     "iopub.status.busy": "2023-12-24T00:01:49.543990Z",
     "iopub.status.idle": "2023-12-24T00:01:49.900817Z",
     "shell.execute_reply": "2023-12-24T00:01:49.899887Z"
    },
    "papermill": {
     "duration": 0.405638,
     "end_time": "2023-12-24T00:01:49.903006",
     "exception": false,
     "start_time": "2023-12-24T00:01:49.497368",
     "status": "completed"
    },
    "tags": []
   },
   "outputs": [
    {
     "data": {
      "text/plain": [
       "<matplotlib.legend.Legend at 0x7bb189d77010>"
      ]
     },
     "execution_count": 24,
     "metadata": {},
     "output_type": "execute_result"
    },
    {
     "data": {
      "image/png": "[encoded data removed]",
      "text/plain": [
       "<Figure size 640x480 with 1 Axes>"
      ]
     },
     "metadata": {},
     "output_type": "display_data"
    }
   ],
   "source": [
    "# Plotting training and validation accuracy\n",
    "plt.subplot(1, 2, 2)\n",
    "plt.plot(train_accuracies, label='Training Accuracy')\n",
    "plt.plot(val_accuracies, label='Validation Accuracy')\n",
    "plt.xlabel('Epoch')\n",
    "plt.ylabel('Accuracy (%)')\n",
    "plt.title('Training and Validation Accuracy')\n",
    "plt.legend()"
   ]
  },
  {
   "cell_type": "code",
   "execution_count": 25,
   "id": "a9659c60",
   "metadata": {
    "execution": {
     "iopub.execute_input": "2023-12-24T00:01:49.999786Z",
     "iopub.status.busy": "2023-12-24T00:01:49.999347Z",
     "iopub.status.idle": "2023-12-24T00:01:50.007939Z",
     "shell.execute_reply": "2023-12-24T00:01:50.006908Z"
    },
    "papermill": {
     "duration": 0.060958,
     "end_time": "2023-12-24T00:01:50.010412",
     "exception": false,
     "start_time": "2023-12-24T00:01:49.949454",
     "status": "completed"
    },
    "tags": []
   },
   "outputs": [
    {
     "data": {
      "text/plain": [
       "<Figure size 640x480 with 0 Axes>"
      ]
     },
     "metadata": {},
     "output_type": "display_data"
    }
   ],
   "source": [
    "plt.tight_layout()\n",
    "plt.show()"
   ]
  },
  {
   "cell_type": "code",
   "execution_count": 26,
   "id": "1836b032",
   "metadata": {
    "execution": {
     "iopub.execute_input": "2023-12-24T00:01:50.118364Z",
     "iopub.status.busy": "2023-12-24T00:01:50.117969Z",
     "iopub.status.idle": "2023-12-24T00:01:50.150049Z",
     "shell.execute_reply": "2023-12-24T00:01:50.148960Z"
    },
    "papermill": {
     "duration": 0.088339,
     "end_time": "2023-12-24T00:01:50.152016",
     "exception": false,
     "start_time": "2023-12-24T00:01:50.063677",
     "status": "completed"
    },
    "tags": []
   },
   "outputs": [
    {
     "name": "stdout",
     "output_type": "stream",
     "text": [
      "Confusion Matrix:\n",
      "[[718   0   0 ...   0   0   0]\n",
      " [  0 692   0 ...   0   0   0]\n",
      " [  0   0 661 ...   0   0   9]\n",
      " ...\n",
      " [  0   0   0 ... 609   0  18]\n",
      " [  0   0   0 ...   2 651   0]\n",
      " [  0   0   0 ...  49   0 498]]\n"
     ]
    }
   ],
   "source": [
    "# Confusion Matrix\n",
    "conf_matrix = confusion_matrix(np.concatenate(predictions), np.concatenate(targets))\n",
    "print('Confusion Matrix:')\n",
    "print(conf_matrix)"
   ]
  },
  {
   "cell_type": "markdown",
   "id": "f46f6f55",
   "metadata": {
    "papermill": {
     "duration": 0.044974,
     "end_time": "2023-12-24T00:01:50.242094",
     "exception": false,
     "start_time": "2023-12-24T00:01:50.197120",
     "status": "completed"
    },
    "tags": []
   },
   "source": [
    "***PREDICTIONS***"
   ]
  },
  {
   "cell_type": "code",
   "execution_count": 27,
   "id": "78e806e0",
   "metadata": {
    "execution": {
     "iopub.execute_input": "2023-12-24T00:01:50.334788Z",
     "iopub.status.busy": "2023-12-24T00:01:50.333956Z",
     "iopub.status.idle": "2023-12-24T00:08:56.959318Z",
     "shell.execute_reply": "2023-12-24T00:08:56.958379Z"
    },
    "papermill": {
     "duration": 426.796499,
     "end_time": "2023-12-24T00:08:57.083658",
     "exception": false,
     "start_time": "2023-12-24T00:01:50.287159",
     "status": "completed"
    },
    "tags": []
   },
   "outputs": [
    {
     "name": "stdout",
     "output_type": "stream",
     "text": [
      "Predictions saved to: predictions.csv\n"
     ]
    }
   ],
   "source": [
    "model = model\n",
    "model = model.cuda()\n",
    "\n",
    "test_directory =  '/kaggle/input/arabic-letters-classification/Final_Arabic_Alpha_dataset/Final_Arabic_Alpha_dataset/test/'\n",
    "csv_file_path = 'predictions.csv'\n",
    "\n",
    "transform = transforms.Compose([\n",
    "    transforms.Resize(image_shape),\n",
    "    transforms.Grayscale(num_output_channels=3),\n",
    "    transforms.ToTensor(),\n",
    "    transforms.Normalize(mean=[0.485, 0.456, 0.406], std=[0.229, 0.224, 0.225]),\n",
    "])\n",
    "\n",
    "with open(csv_file_path, 'w', newline='') as csvfile:\n",
    "    csv_writer = csv.writer(csvfile)\n",
    "\n",
    "    csv_writer.writerow(['ID', 'Label'])\n",
    "\n",
    "    for filename in sorted(os.listdir(test_directory), key=lambda x: int(x.split('.')[0])):\n",
    "        if filename.endswith(\".jpg\") or filename.endswith(\".png\"):\n",
    "            image_path = os.path.join(test_directory, filename)\n",
    "\n",
    "            input_image = Image.open(image_path).convert('RGB')  \n",
    "            input_tensor = transform(input_image).unsqueeze(0)\n",
    "            input_tensor = input_tensor.cuda()\n",
    "\n",
    "            with torch.no_grad():\n",
    "                output = model(input_tensor)\n",
    "\n",
    "            _, predicted_class = torch.max(output, 1)\n",
    "\n",
    "            csv_writer.writerow([int(filename.split('.')[0]), predicted_class.item()])\n",
    "\n",
    "print(f\"Predictions saved to: {csv_file_path}\")"
   ]
  }
 ],
 "metadata": {
  "kaggle": {
   "accelerator": "nvidiaTeslaT4",
   "dataSources": [
    {
     "databundleVersionId": 7211464,
     "sourceId": 65471,
     "sourceType": "competition"
    }
   ],
   "dockerImageVersionId": 30627,
   "isGpuEnabled": true,
   "isInternetEnabled": true,
   "language": "python",
   "sourceType": "notebook"
  },
  "kernelspec": {
   "display_name": "Python 3",
   "language": "python",
   "name": "python3"
  },
  "language_info": {
   "codemirror_mode": {
    "name": "ipython",
    "version": 3
   },
   "file_extension": ".py",
   "mimetype": "text/x-python",
   "name": "python",
   "nbconvert_exporter": "python",
   "pygments_lexer": "ipython3",
   "version": "3.10.12"
  },
  "papermill": {
   "default_parameters": {},
   "duration": 16487.54725,
   "end_time": "2023-12-24T00:09:00.711626",
   "environment_variables": {},
   "exception": null,
   "input_path": "__notebook__.ipynb",
   "output_path": "__notebook__.ipynb",
   "parameters": {},
   "start_time": "2023-12-23T19:34:13.164376",
   "version": "2.4.0"
  }
 },
 "nbformat": 4,
 "nbformat_minor": 5
}
